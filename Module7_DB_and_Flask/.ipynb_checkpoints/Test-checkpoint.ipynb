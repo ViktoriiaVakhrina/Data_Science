{
 "cells": [
  {
   "cell_type": "code",
   "execution_count": 2,
   "metadata": {},
   "outputs": [
    {
     "name": "stdout",
     "output_type": "stream",
     "text": [
      "<Actor test actor>\n",
      "{'_sa_instance_state': <sqlalchemy.orm.state.InstanceState object at 0x10a57fc10>, 'gender': 'female', 'id': 39, 'date_of_birth': datetime.datetime(1992, 6, 28, 0, 0), 'name': 'test actor'}\n"
     ]
    }
   ],
   "source": [
    "from flask import Flask\n",
    "from flask_sqlalchemy import SQLAlchemy\n",
    "from datetime import datetime as dt\n",
    "from sqlalchemy import inspect\n",
    "\n",
    "from settings.constants import DB_URL\n",
    "from core import db\n",
    "from models.actor import Actor\n",
    "from models.movie import Movie\n",
    "\n",
    "data = {'name': 'my test','gender':'female', 'date_of_birth':dt.strptime('22.02.2222', '%d.%m.%Y').date()}\n",
    "\n",
    "app = Flask(__name__, instance_relative_config=False)\n",
    "app.config['SQLALCHEMY_DATABASE_URI'] = DB_URL\n",
    "app.config['SQLALCHEMY_TRACK_MODIFICATIONS'] = False  # silence the deprecation warning\n",
    "\n",
    "db.init_app(app)\n",
    "\n",
    "with app.app_context():\n",
    "    db.create_all()\n",
    "    obj = Actor.create(**data)\n",
    "    print(obj)\n",
    "    print(obj.__dict__)\n",
    "    #print(Actor.delete(34))\n"
   ]
  },
  {
   "cell_type": "code",
   "execution_count": 4,
   "metadata": {},
   "outputs": [],
   "source": [
    "#data_actor_upd = {'name': 'Not Megan Fox', 'gender': 'male', 'date_of_birth': dt.strptime('16.05.2000', '%d.%m.%Y').date()}\n",
    "\n",
    "data_movie = {'name': 'My Movie', 'genre': 'crime', 'year': 2007}\n",
    "#data_movie_upd = {'name': 'Teenage Mutant Ninja Turtles', 'genre': 'bad movie', 'year': 2014}\n",
    "\n",
    "app = Flask(__name__, instance_relative_config=False)\n",
    "app.config['SQLALCHEMY_DATABASE_URI'] = DB_URL\n",
    "app.config['SQLALCHEMY_TRACK_MODIFICATIONS'] = False  # silence the deprecation warning\n",
    "\n",
    "db.init_app(app)\n",
    "\n",
    "with app.app_context():\n",
    "    #db.create_all()\n",
    "    \n",
    "    add_movie=Movie.create(**data_movie)\n",
    "    \n",
    "   # upd_actor = Actor.update(21, **data_actor_upd)\n",
    "   # print('updated actor:', upd_actor.__dict__, '\\n')\n",
    "\n",
    "   # upd_movie = Movie.update(13, **data_movie_upd)\n",
    "   # print('updated movie:', upd_movie.__dict__, '\\n')\n",
    "\n",
    "    #add_rels_actor = Actor.add_relation(21, upd_movie)\n",
    "   # movie_2 = Movie.create(**data_movie)\n",
    "    #add_more_rels_actor = Actor.add_relation(21, movie_2)\n",
    "    #print('relations list:', add_more_rels_actor.filmography, '\\n')\n",
    "\n",
    "    #clear_rels_actor = Actor.clear_relations(21)\n",
    "    #print('all relations cleared:', clear_rels_actor.filmography, '\\n')\n",
    "\n",
    "    #del_actor = Actor.delete(21)"
   ]
  },
  {
   "cell_type": "code",
   "execution_count": null,
   "metadata": {},
   "outputs": [],
   "source": [
    "#data2 = {'name': 'Movie2', 'year': '2012', 'genre': 'comedy'}\n",
    "\n",
    "with app.app_context():\n",
    "    obj=Actor.query.get(1)\n",
    "    db.session.delete(obj)\n",
    "    print(len(db.session.deleted))\n",
    "    db.session.commit()\n",
    "    print(len(db.session.deleted))"
   ]
  },
  {
   "cell_type": "code",
   "execution_count": 14,
   "metadata": {},
   "outputs": [
    {
     "ename": "AttributeError",
     "evalue": "'Flask' object has no attribute 'get'",
     "output_type": "error",
     "traceback": [
      "\u001b[0;31m---------------------------------------------------------------------------\u001b[0m",
      "\u001b[0;31mAttributeError\u001b[0m                            Traceback (most recent call last)",
      "\u001b[0;32m<ipython-input-14-6bba669ed060>\u001b[0m in \u001b[0;36m<module>\u001b[0;34m\u001b[0m\n\u001b[1;32m      1\u001b[0m \u001b[0;32mwith\u001b[0m \u001b[0mapp\u001b[0m\u001b[0;34m.\u001b[0m\u001b[0mapp_context\u001b[0m\u001b[0;34m(\u001b[0m\u001b[0;34m)\u001b[0m\u001b[0;34m:\u001b[0m\u001b[0;34m\u001b[0m\u001b[0;34m\u001b[0m\u001b[0m\n\u001b[0;32m----> 2\u001b[0;31m     \u001b[0mapp\u001b[0m\u001b[0;34m.\u001b[0m\u001b[0mget\u001b[0m\u001b[0;34m(\u001b[0m\u001b[0;34m)\u001b[0m\u001b[0;34m\u001b[0m\u001b[0;34m\u001b[0m\u001b[0m\n\u001b[0m",
      "\u001b[0;31mAttributeError\u001b[0m: 'Flask' object has no attribute 'get'"
     ]
    }
   ],
   "source": [
    "with app.app_context():\n",
    "    app.get()"
   ]
  },
  {
   "cell_type": "code",
   "execution_count": 2,
   "metadata": {},
   "outputs": [
    {
     "name": "stdout",
     "output_type": "stream",
     "text": [
      "{'error': 'Error occurred while creating new actor'}\n"
     ]
    }
   ],
   "source": [
    "from flask import Flask\n",
    "from flask_sqlalchemy import SQLAlchemy\n",
    "from datetime import datetime as dt\n",
    "from sqlalchemy import inspect\n",
    "\n",
    "from settings.constants import DB_URL\n",
    "from core import db\n",
    "from models.actor import Actor\n",
    "from models.movie import Movie\n",
    "from controllers.actor import add_actor\n",
    "\n",
    "data={'name':'testing add2', 'gender':'female', 'date_of_birth':'2001/22/09'}\n",
    "app = Flask(__name__, instance_relative_config=False)\n",
    "app.config['SQLALCHEMY_DATABASE_URI'] = DB_URL\n",
    "app.config['SQLALCHEMY_TRACK_MODIFICATIONS'] = False  # silence the deprecation warning\n",
    "\n",
    "db.init_app(app)\n",
    "\n",
    "with app.app_context():\n",
    "    print(add_actor(data).json)"
   ]
  },
  {
   "cell_type": "code",
   "execution_count": 1,
   "metadata": {},
   "outputs": [
    {
     "name": "stdout",
     "output_type": "stream",
     "text": [
      "{'cast': '[]', 'genre': 'crime', 'id': 16, 'name': 'My Movie', 'year': 2007}\n"
     ]
    }
   ],
   "source": [
    "from flask import Flask\n",
    "from flask_sqlalchemy import SQLAlchemy\n",
    "from datetime import datetime as dt\n",
    "from sqlalchemy import inspect\n",
    "\n",
    "from settings.constants import DB_URL\n",
    "from core import db\n",
    "from models.actor import Actor\n",
    "from models.movie import Movie\n",
    "from controllers.movie import movie_clear_relations\n",
    "\n",
    "data={'id':16}\n",
    "app = Flask(__name__, instance_relative_config=False)\n",
    "app.config['SQLALCHEMY_DATABASE_URI'] = DB_URL\n",
    "app.config['SQLALCHEMY_TRACK_MODIFICATIONS'] = False  # silence the deprecation warning\n",
    "\n",
    "db.init_app(app)\n",
    "\n",
    "with app.app_context():\n",
    "    print(movie_clear_relations(data).json)"
   ]
  },
  {
   "cell_type": "code",
   "execution_count": null,
   "metadata": {},
   "outputs": [],
   "source": []
  }
 ],
 "metadata": {
  "kernelspec": {
   "display_name": "Python 3",
   "language": "python",
   "name": "python3"
  },
  "language_info": {
   "codemirror_mode": {
    "name": "ipython",
    "version": 3
   },
   "file_extension": ".py",
   "mimetype": "text/x-python",
   "name": "python",
   "nbconvert_exporter": "python",
   "pygments_lexer": "ipython3",
   "version": "3.7.6"
  }
 },
 "nbformat": 4,
 "nbformat_minor": 4
}
